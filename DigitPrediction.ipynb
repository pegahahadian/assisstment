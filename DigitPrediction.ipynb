{
 "cells": [
  {
   "cell_type": "code",
   "execution_count": null,
   "id": "30381435-80b8-4499-9e6a-a517c14a3026",
   "metadata": {},
   "outputs": [],
   "source": [
    "import cv2\n",
    "import numpy as np\n",
    "from tensorflow.keras.models import load_model\n",
    "\n",
    "# pre-trained digit classification model\n",
    "model = load_model('mnist_cnn_model.h5')\n",
    "\n",
    "# Preprocess the image\n",
    "def preprocess_image(image_path):\n",
    "    image = cv2.imread(image_path, cv2.IMREAD_GRAYSCALE)\n",
    "    _, thresh = cv2.threshold(image, 128, 255, cv2.THRESH_BINARY_INV)\n",
    "    return thresh\n",
    "\n",
    "# Find contours (potential digits)\n",
    "def find_digit_contours(preprocessed_image):\n",
    "    contours, _ = cv2.findContours(preprocessed_image, cv2.RETR_EXTERNAL, cv2.CHAIN_APPROX_SIMPLE)\n",
    "    return contours\n",
    "\n",
    "# Predict the class for each contour\n",
    "def classify_digits(model, image, contours):\n",
    "    digit_predictions = []\n",
    "    for contour in contours:\n",
    "        # Compute the bounding box of the contour\n",
    "        x, y, w, h = cv2.boundingRect(contour)\n",
    "        \n",
    "        # Crop and resize the image around the contour\n",
    "        digit = image[y:y+h, x:x+w]\n",
    "        digit = cv2.resize(digit, (28, 28))\n",
    "        digit = np.expand_dims(digit, axis=-1)\n",
    "        digit = np.expand_dims(digit, axis=0).astype('float32') / 255\n",
    "        \n",
    "        # prediction\n",
    "        prediction = model.predict(digit)\n",
    "        predicted_digit = np.argmax(prediction, axis=1)[0]  # Get the index of max predicted value\n",
    "        digit_predictions.append((predicted_digit, (x, y, w, h)))\n",
    "        \n",
    "    return digit_predictions\n",
    "\n",
    "image_path = 'pic.jpg'  # Change this path to your actual image path\n",
    "thresh_image = preprocess_image(image_path)\n",
    "digit_contours = find_digit_contours(thresh_image)\n",
    "predictions = classify_digits(model, thresh_image, digit_contours)\n",
    "\n",
    "# Load the original image to draw on\n",
    "original_image = cv2.imread(image_path)\n",
    "\n",
    "for predicted_digit, (x, y, w, h) in predictions:\n",
    "    cv2.rectangle(original_image, (x, y), (x+w, y+h), (0, 255, 0), 2)  # Draw the bounding box\n",
    "    cv2.putText(original_image, str(predicted_digit), (x, y-10), cv2.FONT_HERSHEY_SIMPLEX, \n",
    "                0.5, (36,255,12), 1)  # Draw the predicted digit\n",
    "\n",
    "# Save the image\n",
    "cv2.imwrite('question_with_predictions.jpg', original_image)\n",
    "\n",
    "print('Saved image with predictions to: question_with_predictions.jpg')\n"
   ]
  }
 ],
 "metadata": {
  "kernelspec": {
   "display_name": "Python 3 (ipykernel)",
   "language": "python",
   "name": "python3"
  },
  "language_info": {
   "codemirror_mode": {
    "name": "ipython",
    "version": 3
   },
   "file_extension": ".py",
   "mimetype": "text/x-python",
   "name": "python",
   "nbconvert_exporter": "python",
   "pygments_lexer": "ipython3",
   "version": "3.11.6"
  }
 },
 "nbformat": 4,
 "nbformat_minor": 5
}
