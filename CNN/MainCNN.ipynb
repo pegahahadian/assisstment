{
 "cells": [
  {
   "cell_type": "code",
   "execution_count": 1,
   "id": "0de1dd57",
   "metadata": {},
   "outputs": [
    {
     "name": "stdout",
     "output_type": "stream",
     "text": [
      "Requirement already satisfied: tensorflow in c:\\users\\pahad\\appdata\\local\\programs\\python\\python311\\lib\\site-packages (2.12.0)\n",
      "Requirement already satisfied: tensorflow-intel==2.12.0 in c:\\users\\pahad\\appdata\\local\\programs\\python\\python311\\lib\\site-packages (from tensorflow) (2.12.0)\n",
      "Requirement already satisfied: absl-py>=1.0.0 in c:\\users\\pahad\\appdata\\local\\programs\\python\\python311\\lib\\site-packages (from tensorflow-intel==2.12.0->tensorflow) (2.0.0)\n",
      "Requirement already satisfied: astunparse>=1.6.0 in c:\\users\\pahad\\appdata\\local\\programs\\python\\python311\\lib\\site-packages (from tensorflow-intel==2.12.0->tensorflow) (1.6.3)\n",
      "Requirement already satisfied: flatbuffers>=2.0 in c:\\users\\pahad\\appdata\\local\\programs\\python\\python311\\lib\\site-packages (from tensorflow-intel==2.12.0->tensorflow) (23.5.26)\n",
      "Requirement already satisfied: gast<=0.4.0,>=0.2.1 in c:\\users\\pahad\\appdata\\local\\programs\\python\\python311\\lib\\site-packages (from tensorflow-intel==2.12.0->tensorflow) (0.4.0)\n",
      "Requirement already satisfied: google-pasta>=0.1.1 in c:\\users\\pahad\\appdata\\local\\programs\\python\\python311\\lib\\site-packages (from tensorflow-intel==2.12.0->tensorflow) (0.2.0)\n",
      "Requirement already satisfied: h5py>=2.9.0 in c:\\users\\pahad\\appdata\\local\\programs\\python\\python311\\lib\\site-packages (from tensorflow-intel==2.12.0->tensorflow) (3.10.0)\n",
      "Requirement already satisfied: jax>=0.3.15 in c:\\users\\pahad\\appdata\\local\\programs\\python\\python311\\lib\\site-packages (from tensorflow-intel==2.12.0->tensorflow) (0.4.21)\n",
      "Requirement already satisfied: libclang>=13.0.0 in c:\\users\\pahad\\appdata\\local\\programs\\python\\python311\\lib\\site-packages (from tensorflow-intel==2.12.0->tensorflow) (16.0.6)\n",
      "Requirement already satisfied: numpy<1.24,>=1.22 in c:\\users\\pahad\\appdata\\local\\programs\\python\\python311\\lib\\site-packages (from tensorflow-intel==2.12.0->tensorflow) (1.23.5)\n",
      "Requirement already satisfied: opt-einsum>=2.3.2 in c:\\users\\pahad\\appdata\\local\\programs\\python\\python311\\lib\\site-packages (from tensorflow-intel==2.12.0->tensorflow) (3.3.0)\n",
      "Requirement already satisfied: packaging in c:\\users\\pahad\\appdata\\local\\programs\\python\\python311\\lib\\site-packages (from tensorflow-intel==2.12.0->tensorflow) (23.2)\n",
      "Requirement already satisfied: protobuf!=4.21.0,!=4.21.1,!=4.21.2,!=4.21.3,!=4.21.4,!=4.21.5,<5.0.0dev,>=3.20.3 in c:\\users\\pahad\\appdata\\local\\programs\\python\\python311\\lib\\site-packages (from tensorflow-intel==2.12.0->tensorflow) (3.20.3)\n",
      "Requirement already satisfied: setuptools in c:\\users\\pahad\\appdata\\local\\programs\\python\\python311\\lib\\site-packages (from tensorflow-intel==2.12.0->tensorflow) (65.5.0)\n",
      "Requirement already satisfied: six>=1.12.0 in c:\\users\\pahad\\appdata\\local\\programs\\python\\python311\\lib\\site-packages (from tensorflow-intel==2.12.0->tensorflow) (1.16.0)\n",
      "Requirement already satisfied: termcolor>=1.1.0 in c:\\users\\pahad\\appdata\\local\\programs\\python\\python311\\lib\\site-packages (from tensorflow-intel==2.12.0->tensorflow) (2.3.0)\n",
      "Requirement already satisfied: typing-extensions>=3.6.6 in c:\\users\\pahad\\appdata\\local\\programs\\python\\python311\\lib\\site-packages (from tensorflow-intel==2.12.0->tensorflow) (4.8.0)\n",
      "Requirement already satisfied: wrapt<1.15,>=1.11.0 in c:\\users\\pahad\\appdata\\local\\programs\\python\\python311\\lib\\site-packages (from tensorflow-intel==2.12.0->tensorflow) (1.14.1)\n",
      "Requirement already satisfied: grpcio<2.0,>=1.24.3 in c:\\users\\pahad\\appdata\\local\\programs\\python\\python311\\lib\\site-packages (from tensorflow-intel==2.12.0->tensorflow) (1.59.3)\n",
      "Requirement already satisfied: tensorboard<2.13,>=2.12 in c:\\users\\pahad\\appdata\\local\\programs\\python\\python311\\lib\\site-packages (from tensorflow-intel==2.12.0->tensorflow) (2.12.3)\n",
      "Requirement already satisfied: tensorflow-estimator<2.13,>=2.12.0 in c:\\users\\pahad\\appdata\\local\\programs\\python\\python311\\lib\\site-packages (from tensorflow-intel==2.12.0->tensorflow) (2.12.0)\n",
      "Requirement already satisfied: keras<2.13,>=2.12.0 in c:\\users\\pahad\\appdata\\local\\programs\\python\\python311\\lib\\site-packages (from tensorflow-intel==2.12.0->tensorflow) (2.12.0)\n",
      "Requirement already satisfied: tensorflow-io-gcs-filesystem>=0.23.1 in c:\\users\\pahad\\appdata\\local\\programs\\python\\python311\\lib\\site-packages (from tensorflow-intel==2.12.0->tensorflow) (0.31.0)\n",
      "Requirement already satisfied: wheel<1.0,>=0.23.0 in c:\\users\\pahad\\appdata\\local\\programs\\python\\python311\\lib\\site-packages (from astunparse>=1.6.0->tensorflow-intel==2.12.0->tensorflow) (0.42.0)\n",
      "Requirement already satisfied: ml-dtypes>=0.2.0 in c:\\users\\pahad\\appdata\\local\\programs\\python\\python311\\lib\\site-packages (from jax>=0.3.15->tensorflow-intel==2.12.0->tensorflow) (0.2.0)\n",
      "Requirement already satisfied: scipy>=1.9 in c:\\users\\pahad\\appdata\\local\\programs\\python\\python311\\lib\\site-packages (from jax>=0.3.15->tensorflow-intel==2.12.0->tensorflow) (1.11.4)\n",
      "Requirement already satisfied: google-auth<3,>=1.6.3 in c:\\users\\pahad\\appdata\\local\\programs\\python\\python311\\lib\\site-packages (from tensorboard<2.13,>=2.12->tensorflow-intel==2.12.0->tensorflow) (2.23.4)\n",
      "Requirement already satisfied: google-auth-oauthlib<1.1,>=0.5 in c:\\users\\pahad\\appdata\\local\\programs\\python\\python311\\lib\\site-packages (from tensorboard<2.13,>=2.12->tensorflow-intel==2.12.0->tensorflow) (1.0.0)\n",
      "Requirement already satisfied: markdown>=2.6.8 in c:\\users\\pahad\\appdata\\local\\programs\\python\\python311\\lib\\site-packages (from tensorboard<2.13,>=2.12->tensorflow-intel==2.12.0->tensorflow) (3.5.1)\n",
      "Requirement already satisfied: requests<3,>=2.21.0 in c:\\users\\pahad\\appdata\\local\\programs\\python\\python311\\lib\\site-packages (from tensorboard<2.13,>=2.12->tensorflow-intel==2.12.0->tensorflow) (2.31.0)\n",
      "Requirement already satisfied: tensorboard-data-server<0.8.0,>=0.7.0 in c:\\users\\pahad\\appdata\\local\\programs\\python\\python311\\lib\\site-packages (from tensorboard<2.13,>=2.12->tensorflow-intel==2.12.0->tensorflow) (0.7.2)\n",
      "Requirement already satisfied: werkzeug>=1.0.1 in c:\\users\\pahad\\appdata\\local\\programs\\python\\python311\\lib\\site-packages (from tensorboard<2.13,>=2.12->tensorflow-intel==2.12.0->tensorflow) (3.0.1)\n",
      "Requirement already satisfied: cachetools<6.0,>=2.0.0 in c:\\users\\pahad\\appdata\\local\\programs\\python\\python311\\lib\\site-packages (from google-auth<3,>=1.6.3->tensorboard<2.13,>=2.12->tensorflow-intel==2.12.0->tensorflow) (5.3.2)\n",
      "Requirement already satisfied: pyasn1-modules>=0.2.1 in c:\\users\\pahad\\appdata\\local\\programs\\python\\python311\\lib\\site-packages (from google-auth<3,>=1.6.3->tensorboard<2.13,>=2.12->tensorflow-intel==2.12.0->tensorflow) (0.3.0)\n",
      "Requirement already satisfied: rsa<5,>=3.1.4 in c:\\users\\pahad\\appdata\\local\\programs\\python\\python311\\lib\\site-packages (from google-auth<3,>=1.6.3->tensorboard<2.13,>=2.12->tensorflow-intel==2.12.0->tensorflow) (4.9)\n",
      "Requirement already satisfied: requests-oauthlib>=0.7.0 in c:\\users\\pahad\\appdata\\local\\programs\\python\\python311\\lib\\site-packages (from google-auth-oauthlib<1.1,>=0.5->tensorboard<2.13,>=2.12->tensorflow-intel==2.12.0->tensorflow) (1.3.1)\n",
      "Requirement already satisfied: charset-normalizer<4,>=2 in c:\\users\\pahad\\appdata\\local\\programs\\python\\python311\\lib\\site-packages (from requests<3,>=2.21.0->tensorboard<2.13,>=2.12->tensorflow-intel==2.12.0->tensorflow) (3.3.2)\n",
      "Requirement already satisfied: idna<4,>=2.5 in c:\\users\\pahad\\appdata\\local\\programs\\python\\python311\\lib\\site-packages (from requests<3,>=2.21.0->tensorboard<2.13,>=2.12->tensorflow-intel==2.12.0->tensorflow) (3.6)\n",
      "Requirement already satisfied: urllib3<3,>=1.21.1 in c:\\users\\pahad\\appdata\\local\\programs\\python\\python311\\lib\\site-packages (from requests<3,>=2.21.0->tensorboard<2.13,>=2.12->tensorflow-intel==2.12.0->tensorflow) (2.1.0)\n",
      "Requirement already satisfied: certifi>=2017.4.17 in c:\\users\\pahad\\appdata\\local\\programs\\python\\python311\\lib\\site-packages (from requests<3,>=2.21.0->tensorboard<2.13,>=2.12->tensorflow-intel==2.12.0->tensorflow) (2023.11.17)\n",
      "Requirement already satisfied: MarkupSafe>=2.1.1 in c:\\users\\pahad\\appdata\\local\\programs\\python\\python311\\lib\\site-packages (from werkzeug>=1.0.1->tensorboard<2.13,>=2.12->tensorflow-intel==2.12.0->tensorflow) (2.1.3)\n",
      "Requirement already satisfied: pyasn1<0.6.0,>=0.4.6 in c:\\users\\pahad\\appdata\\local\\programs\\python\\python311\\lib\\site-packages (from pyasn1-modules>=0.2.1->google-auth<3,>=1.6.3->tensorboard<2.13,>=2.12->tensorflow-intel==2.12.0->tensorflow) (0.5.1)\n",
      "Requirement already satisfied: oauthlib>=3.0.0 in c:\\users\\pahad\\appdata\\local\\programs\\python\\python311\\lib\\site-packages (from requests-oauthlib>=0.7.0->google-auth-oauthlib<1.1,>=0.5->tensorboard<2.13,>=2.12->tensorflow-intel==2.12.0->tensorflow) (3.2.2)\n"
     ]
    },
    {
     "name": "stderr",
     "output_type": "stream",
     "text": [
      "\n",
      "[notice] A new release of pip is available: 23.3.1 -> 24.0\n",
      "[notice] To update, run: C:\\Users\\pahad\\AppData\\Local\\Programs\\Python\\Python311\\python.exe -m pip install --upgrade pip\n",
      "ERROR: Could not find a version that satisfies the requirement tensorflow==2.4.0 (from versions: 2.12.0rc0, 2.12.0rc1, 2.12.0, 2.12.1, 2.13.0rc0, 2.13.0rc1, 2.13.0rc2, 2.13.0, 2.13.1, 2.14.0rc0, 2.14.0rc1, 2.14.0, 2.14.1, 2.15.0rc0, 2.15.0rc1, 2.15.0, 2.15.1, 2.16.0rc0, 2.16.1)\n",
      "ERROR: No matching distribution found for tensorflow==2.4.0\n",
      "\n",
      "[notice] A new release of pip is available: 23.3.1 -> 24.0\n",
      "[notice] To update, run: C:\\Users\\pahad\\AppData\\Local\\Programs\\Python\\Python311\\python.exe -m pip install --upgrade pip\n"
     ]
    },
    {
     "name": "stdout",
     "output_type": "stream",
     "text": [
      "Requirement already satisfied: imutils in c:\\users\\pahad\\appdata\\local\\programs\\python\\python311\\lib\\site-packages (0.5.4)\n"
     ]
    },
    {
     "name": "stderr",
     "output_type": "stream",
     "text": [
      "\n",
      "[notice] A new release of pip is available: 23.3.1 -> 24.0\n",
      "[notice] To update, run: C:\\Users\\pahad\\AppData\\Local\\Programs\\Python\\Python311\\python.exe -m pip install --upgrade pip\n"
     ]
    }
   ],
   "source": [
    "!pip install tensorflow\n",
    "!pip install tensorflow==2.4.0\n",
    "!pip install imutils\n",
    "import numpy as np\n",
    "import cv2\n",
    "import os\n",
    "import tensorflow as tf\n",
    "from tensorflow.keras.initializers import glorot_uniform\n",
    "from tensorflow.keras.models import Sequential\n",
    "from tensorflow.keras.optimizers import Adam, SGD\n",
    "from tensorflow.keras.regularizers import l2\n",
    "from tensorflow.keras.preprocessing.image import ImageDataGenerator\n",
    "from tensorflow.keras.callbacks import LearningRateScheduler, ModelCheckpoint\n",
    "from tensorflow.keras.utils import to_categorical\n",
    "from sklearn.metrics import classification_report, confusion_matrix\n",
    "from sklearn.preprocessing import LabelEncoder\n",
    "import seaborn as sn\n",
    "import matplotlib.pyplot as plt\n",
    "import pandas as pd\n",
    "import imutils\n",
    "from imutils.contours import sort_contours\n",
    "from tensorflow.keras.layers import Input, Conv2D, Activation, MaxPool2D, Flatten, Dense, Dropout, BatchNormalization\n"
   ]
  },
  {
   "cell_type": "code",
   "execution_count": 37,
   "id": "9ee8305b",
   "metadata": {},
   "outputs": [
    {
     "data": {
      "text/plain": [
       "('data.zip', <http.client.HTTPMessage at 0x1f4c3aec710>)"
      ]
     },
     "execution_count": 37,
     "metadata": {},
     "output_type": "execute_result"
    }
   ],
   "source": [
    "import urllib.request\n",
    "\n",
    "url = \"https://cainvas-static.s3.amazonaws.com/media/user_data/Yuvnish17/data.zip\"\n",
    "filename = \"data.zip\" \n",
    "\n",
    "urllib.request.urlretrieve(url, filename)"
   ]
  },
  {
   "cell_type": "code",
   "execution_count": 38,
   "id": "d4fbad66",
   "metadata": {},
   "outputs": [],
   "source": [
    "import zipfile\n",
    "\n",
    "with zipfile.ZipFile('data.zip', 'r') as zip_ref:\n",
    "    zip_ref.extractall('dataCaption') \n"
   ]
  },
  {
   "cell_type": "code",
   "execution_count": 2,
   "id": "5987055e",
   "metadata": {},
   "outputs": [
    {
     "name": "stdout",
     "output_type": "stream",
     "text": [
      "4116\n",
      "4116\n",
      "labels : ['non-fraction', 'fraction']\n"
     ]
    }
   ],
   "source": [
    "x = []\n",
    "y = []\n",
    "datadir = 'dataaa'\n",
    "for folder in os.listdir(datadir):\n",
    "    path = os.path.join(datadir, folder)\n",
    "    for images in os.listdir(path):\n",
    "        img = cv2.imread(os.path.join(path, images))\n",
    "        x.append(img)\n",
    "        y.append(folder)\n",
    "        \n",
    "print(len(x))\n",
    "print(len(y))\n",
    "print(f'labels : {list(set(y))}')"
   ]
  },
  {
   "cell_type": "code",
   "execution_count": 3,
   "id": "b1f8c92a",
   "metadata": {},
   "outputs": [
    {
     "data": {
      "image/png": "[encoded data removed]",
      "text/plain": [
       "<Figure size 1000x1000 with 2 Axes>"
      ]
     },
     "metadata": {},
     "output_type": "display_data"
    }
   ],
   "source": [
    "import matplotlib.pyplot as plt\n",
    "figure = plt.figure(figsize=(10, 10))\n",
    "j = 0\n",
    "for i in list(set(y)):\n",
    "    idx = y.index(i)\n",
    "    img = x[idx]\n",
    "    img = cv2.resize(img, (256, 256))\n",
    "    figure.add_subplot(5, 5, j+1)\n",
    "    plt.imshow(img)\n",
    "    plt.axis('off')\n",
    "    plt.title(i)\n",
    "    j += 1"
   ]
  },
  {
   "cell_type": "code",
   "execution_count": 4,
   "id": "40d9c09a",
   "metadata": {},
   "outputs": [
    {
     "name": "stdout",
     "output_type": "stream",
     "text": [
      "4116\n"
     ]
    }
   ],
   "source": [
    "X = []\n",
    "for i in range(len(x)):\n",
    "#     print(i)\n",
    "    img = x[i]\n",
    "    img_gray = cv2.cvtColor(img, cv2.COLOR_BGR2GRAY)\n",
    "    threshold_image = cv2.threshold(img_gray, 0, 255, cv2.THRESH_BINARY_INV|cv2.THRESH_OTSU)[1]\n",
    "    threshold_image = cv2.resize(threshold_image, (56, 56))\n",
    "    X.append(threshold_image)\n",
    "print(len(X))\n"
   ]
  },
  {
   "cell_type": "code",
   "execution_count": 5,
   "id": "fa27e6ac",
   "metadata": {},
   "outputs": [
    {
     "name": "stdout",
     "output_type": "stream",
     "text": [
      "4116\n"
     ]
    }
   ],
   "source": [
    "from sklearn.preprocessing import LabelEncoder\n",
    "label_encoder = LabelEncoder()\n",
    "y = label_encoder.fit_transform(y)\n",
    "print(len(y))"
   ]
  },
  {
   "cell_type": "code",
   "execution_count": 6,
   "id": "eb46495a",
   "metadata": {},
   "outputs": [
    {
     "name": "stdout",
     "output_type": "stream",
     "text": [
      "(2633, 56, 56, 1)\n",
      "(659, 56, 56, 1)\n",
      "(824, 56, 56, 1)\n",
      "(2633, 2)\n",
      "(659, 2)\n",
      "(824, 2)\n"
     ]
    }
   ],
   "source": [
    "#from sklearn.model_selection import train_test_split\n",
    "#X_train, X_test, Y_train, Y_test = train_test_split(X, y, test_size=0.2)\n",
    "\n",
    "from sklearn.model_selection import train_test_split\n",
    "import numpy as np\n",
    "from tensorflow.keras.utils import to_categorical\n",
    "\n",
    "# Assuming you have input data X and labels y\n",
    "X_train, X_test, y_train, y_test = train_test_split(X, y, test_size=0.2, random_state=42)\n",
    "X_train, X_val, y_train, y_val = train_test_split(X_train, y_train, test_size=0.2, random_state=42)\n",
    "\n",
    "\n",
    "# Convert labels to categorical if needed\n",
    "y_train = to_categorical(y_train)\n",
    "y_val = to_categorical(y_val)\n",
    "y_test = to_categorical(y_test)\n",
    "\n",
    "X_train = np.array(X_train)\n",
    "X_val = np.array(X_val)\n",
    "X_test = np.array(X_test)\n",
    "\n",
    "X_train = np.expand_dims(X_train, axis=-1)\n",
    "X_val = np.expand_dims(X_val, axis=-1)\n",
    "X_test = np.expand_dims(X_test, axis=-1)\n",
    "\n",
    "X_train = X_train / 255.0\n",
    "X_val = X_val / 255.0\n",
    "X_test = X_test / 255.0\n",
    "\n",
    "print(X_train.shape)\n",
    "print(X_val.shape)\n",
    "print(X_test.shape)\n",
    "print(y_train.shape)\n",
    "print(y_val.shape)\n",
    "print(y_test.shape)\n"
   ]
  },
  {
   "cell_type": "code",
   "execution_count": 7,
   "id": "2ec2845b",
   "metadata": {},
   "outputs": [],
   "source": [
    "from tensorflow.keras.preprocessing.text import Tokenizer\n",
    "from tensorflow.keras.preprocessing.sequence import pad_sequences\n",
    "from tensorflow.keras.utils import to_categorical\n",
    "from tensorflow.keras.models import Sequential"
   ]
  },
  {
   "cell_type": "code",
   "execution_count": 8,
   "id": "a786bb8f",
   "metadata": {},
   "outputs": [],
   "source": [
    "from tensorflow.keras import regularizers\n",
    "from tensorflow.keras.models import Sequential\n",
    "from tensorflow.keras.layers import (\n",
    "    Conv2D, Activation, MaxPool2D, Flatten, Dropout, Dense, Input\n",
    ")\n",
    "from tensorflow.keras.initializers import glorot_uniform\n",
    "from tensorflow.keras.optimizers import Adam\n",
    "\n",
    "def math_symbol_and_digits_recognition(input_shape=(56, 56, 1)):\n",
    "    regularizer = regularizers.l2(0.01)\n",
    "    model = Sequential()\n",
    "    model.add(Input(shape=input_shape))\n",
    "    model.add(Conv2D(32, (3, 3), strides=(1, 1), padding='same', \n",
    "                     kernel_initializer=glorot_uniform(seed=0), \n",
    "                     name='conv1', activity_regularizer=regularizer))\n",
    "    model.add(Activation('relu', name='act1'))\n",
    "    model.add(MaxPool2D((2, 2), strides=(2, 2)))\n",
    "    model.add(Conv2D(32, (3, 3), strides=(1, 1), padding='same', \n",
    "                     kernel_initializer=glorot_uniform(seed=0), \n",
    "                     name='conv2', activity_regularizer=regularizer))\n",
    "    model.add(Activation('relu', name='act2'))\n",
    "    model.add(MaxPool2D((2, 2), strides=(2, 2)))\n",
    "    model.add(Conv2D(64, (3, 3), strides=(1, 1), padding='same', \n",
    "                     kernel_initializer=glorot_uniform(seed=0), \n",
    "                     name='conv3', activity_regularizer=regularizer))\n",
    "    model.add(Activation('relu', name='act3'))\n",
    "    model.add(MaxPool2D((2, 2), strides=(2, 2)))\n",
    "    model.add(Flatten())\n",
    "    model.add(Dropout(0.5))\n",
    "    model.add(Dense(120, activation='relu', kernel_initializer=glorot_uniform(seed=0), name='fc1'))\n",
    "    model.add(Dense(84, activation='relu', kernel_initializer=glorot_uniform(seed=0), name='fc2'))\n",
    "    model.add(Dense(2, activation='softmax', kernel_initializer=glorot_uniform(seed=0), name='fc3'))\n",
    "    \n",
    "    optimizer = Adam()\n",
    "    model.compile(loss='categorical_crossentropy', optimizer=optimizer, metrics=['accuracy'])\n",
    "    return model"
   ]
  },
  {
   "cell_type": "code",
   "execution_count": 9,
   "id": "cb924abf",
   "metadata": {},
   "outputs": [],
   "source": [
    "#Improved model\n",
    "from tensorflow.keras import regularizers\n",
    "from tensorflow.keras.models import Sequential\n",
    "from tensorflow.keras.layers import (\n",
    "    Conv2D, Activation, MaxPool2D, Flatten, Dropout, Dense, Input\n",
    ")\n",
    "from tensorflow.keras.initializers import glorot_uniform\n",
    "from tensorflow.keras.optimizers import Adam\n",
    "\n",
    "def math_symbol_and_digits_recognition(input_shape=(56, 56, 1)):\n",
    "    regularizer = regularizers.l2(0.01)\n",
    "    model = Sequential()\n",
    "    model.add(Input(shape=input_shape))\n",
    "    model.add(Conv2D(32, (3, 3), strides=(1, 1), padding='same', \n",
    "                     kernel_initializer=glorot_uniform(seed=0), \n",
    "                     name='conv1', activity_regularizer=regularizer))\n",
    "    model.add(Activation('relu', name='act1'))\n",
    "    model.add(MaxPool2D((2, 2), strides=(2, 2)))\n",
    "    model.add(Conv2D(32, (3, 3), strides=(1, 1), padding='same', \n",
    "                     kernel_initializer=glorot_uniform(seed=0), \n",
    "                     name='conv2', activity_regularizer=regularizer))\n",
    "    model.add(Activation('relu', name='act2'))\n",
    "    model.add(MaxPool2D((2, 2), strides=(2, 2)))\n",
    "    model.add(Conv2D(64, (3, 3), strides=(1, 1), padding='same', \n",
    "                     kernel_initializer=glorot_uniform(seed=0), \n",
    "                     name='conv3', activity_regularizer=regularizer))\n",
    "    model.add(Activation('relu', name='act3'))\n",
    "    model.add(MaxPool2D((2, 2), strides=(2, 2)))\n",
    "    model.add(Flatten())\n",
    "    model.add(Dropout(0.5))\n",
    "    model.add(Dense(120, activation='relu', kernel_initializer=glorot_uniform(seed=0), name='fc1'))\n",
    "    model.add(Dense(84, activation='relu', kernel_initializer=glorot_uniform(seed=0), name='fc2'))\n",
    "    model.add(Dense(2, activation='softmax', kernel_initializer=glorot_uniform(seed=0), name='fc3'))\n",
    "    \n",
    "    optimizer = Adam(learning_rate=0.001)  # Adjust the learning rate if needed\n",
    "    model.compile(loss='categorical_crossentropy', optimizer=optimizer, metrics=['accuracy'])\n",
    "    \n",
    "    return model"
   ]
  },
  {
   "cell_type": "code",
   "execution_count": 9,
   "id": "e61808ce",
   "metadata": {},
   "outputs": [
    {
     "name": "stdout",
     "output_type": "stream",
     "text": [
      "Model: \"sequential\"\n",
      "_________________________________________________________________\n",
      " Layer (type)                Output Shape              Param #   \n",
      "=================================================================\n",
      " conv1 (Conv2D)              (None, 56, 56, 32)        320       \n",
      "                                                                 \n",
      " act1 (Activation)           (None, 56, 56, 32)        0         \n",
      "                                                                 \n",
      " max_pooling2d (MaxPooling2D  (None, 28, 28, 32)       0         \n",
      " )                                                               \n",
      "                                                                 \n",
      " conv2 (Conv2D)              (None, 28, 28, 32)        9248      \n",
      "                                                                 \n",
      " act2 (Activation)           (None, 28, 28, 32)        0         \n",
      "                                                                 \n",
      " max_pooling2d_1 (MaxPooling  (None, 14, 14, 32)       0         \n",
      " 2D)                                                             \n",
      "                                                                 \n",
      " conv3 (Conv2D)              (None, 14, 14, 64)        18496     \n",
      "                                                                 \n",
      " act3 (Activation)           (None, 14, 14, 64)        0         \n",
      "                                                                 \n",
      " max_pooling2d_2 (MaxPooling  (None, 7, 7, 64)         0         \n",
      " 2D)                                                             \n",
      "                                                                 \n",
      " flatten (Flatten)           (None, 3136)              0         \n",
      "                                                                 \n",
      " dropout (Dropout)           (None, 3136)              0         \n",
      "                                                                 \n",
      " fc1 (Dense)                 (None, 120)               376440    \n",
      "                                                                 \n",
      " fc2 (Dense)                 (None, 84)                10164     \n",
      "                                                                 \n",
      " fc3 (Dense)                 (None, 2)                 170       \n",
      "                                                                 \n",
      "=================================================================\n",
      "Total params: 414,838\n",
      "Trainable params: 414,838\n",
      "Non-trainable params: 0\n",
      "_________________________________________________________________\n"
     ]
    }
   ],
   "source": [
    "model = math_symbol_and_digits_recognition(input_shape=(56, 56, 1))\n",
    "model.summary()"
   ]
  },
  {
   "cell_type": "code",
   "execution_count": 10,
   "id": "81d61eae",
   "metadata": {},
   "outputs": [],
   "source": [
    "def step_decay(epoch):\n",
    "    initial_learning_rate = 0.001\n",
    "    dropEvery = 10\n",
    "    factor = 0.5\n",
    "    lr = initial_learning_rate*(factor**np.floor((1 + epoch)/dropEvery))\n",
    "    return float(lr)\n",
    "\n",
    "checkpoint = ModelCheckpoint('maths_symbol_and_digits_recognition.h5', \n",
    "                             monitor='val_loss', save_best_only=True, \n",
    "                             verbose=1, mode='min')\n",
    "\n",
    "callbacks = [checkpoint, LearningRateScheduler(step_decay)]"
   ]
  },
  {
   "cell_type": "code",
   "execution_count": 11,
   "id": "429e86fd",
   "metadata": {},
   "outputs": [
    {
     "name": "stdout",
     "output_type": "stream",
     "text": [
      "(2633, 56, 56, 1)\n",
      "(824, 56, 56, 1)\n"
     ]
    }
   ],
   "source": [
    "print(X_train.shape)\n",
    "print(X_test.shape)"
   ]
  },
  {
   "cell_type": "code",
   "execution_count": 12,
   "id": "e1e13bb7",
   "metadata": {},
   "outputs": [
    {
     "name": "stdout",
     "output_type": "stream",
     "text": [
      "Epoch 1/50\n",
      "83/83 [==============================] - 6s 48ms/step - loss: 2.6379 - accuracy: 0.8899 - val_loss: 0.9530 - val_accuracy: 0.9575\n",
      "Epoch 2/50\n",
      "83/83 [==============================] - 4s 43ms/step - loss: 0.5234 - accuracy: 0.9700 - val_loss: 0.6118 - val_accuracy: 0.9442\n",
      "Epoch 3/50\n",
      "83/83 [==============================] - 4s 44ms/step - loss: 0.3397 - accuracy: 0.9692 - val_loss: 0.4175 - val_accuracy: 0.9782\n",
      "Epoch 4/50\n",
      "83/83 [==============================] - 4s 46ms/step - loss: 0.2301 - accuracy: 0.9829 - val_loss: 0.3116 - val_accuracy: 0.9745\n",
      "Epoch 5/50\n",
      "83/83 [==============================] - 4s 46ms/step - loss: 0.1847 - accuracy: 0.9825 - val_loss: 0.2471 - val_accuracy: 0.9891\n",
      "Epoch 6/50\n",
      "83/83 [==============================] - 4s 46ms/step - loss: 0.1593 - accuracy: 0.9825 - val_loss: 0.2103 - val_accuracy: 0.9842\n",
      "Epoch 7/50\n",
      "83/83 [==============================] - 4s 44ms/step - loss: 0.1577 - accuracy: 0.9806 - val_loss: 0.1817 - val_accuracy: 0.9939\n",
      "Epoch 8/50\n",
      "83/83 [==============================] - 4s 44ms/step - loss: 0.1236 - accuracy: 0.9867 - val_loss: 0.1450 - val_accuracy: 0.9976\n",
      "Epoch 9/50\n",
      "83/83 [==============================] - 4s 45ms/step - loss: 0.0984 - accuracy: 0.9913 - val_loss: 0.1485 - val_accuracy: 0.9976\n",
      "Epoch 10/50\n",
      "83/83 [==============================] - 4s 45ms/step - loss: 0.0924 - accuracy: 0.9913 - val_loss: 0.1264 - val_accuracy: 0.9964\n",
      "Epoch 11/50\n",
      "83/83 [==============================] - 4s 44ms/step - loss: 0.0731 - accuracy: 0.9947 - val_loss: 0.1034 - val_accuracy: 0.9976\n",
      "Epoch 12/50\n",
      "83/83 [==============================] - 4s 47ms/step - loss: 0.0906 - accuracy: 0.9913 - val_loss: 0.1077 - val_accuracy: 0.9951\n",
      "Epoch 13/50\n",
      "83/83 [==============================] - 4s 50ms/step - loss: 0.1540 - accuracy: 0.9810 - val_loss: 0.1602 - val_accuracy: 0.9951\n",
      "Epoch 14/50\n",
      "83/83 [==============================] - 4s 47ms/step - loss: 0.0859 - accuracy: 0.9928 - val_loss: 0.1399 - val_accuracy: 0.9842\n",
      "Epoch 15/50\n",
      "83/83 [==============================] - 4s 47ms/step - loss: 0.0677 - accuracy: 0.9935 - val_loss: 0.1030 - val_accuracy: 0.9951\n",
      "Epoch 16/50\n",
      "83/83 [==============================] - 4s 47ms/step - loss: 0.1047 - accuracy: 0.9878 - val_loss: 0.1661 - val_accuracy: 0.9903\n",
      "Epoch 17/50\n",
      "83/83 [==============================] - 4s 46ms/step - loss: 0.0896 - accuracy: 0.9909 - val_loss: 0.1121 - val_accuracy: 0.9939\n",
      "Epoch 18/50\n",
      "83/83 [==============================] - 4s 45ms/step - loss: 0.0551 - accuracy: 0.9954 - val_loss: 0.0920 - val_accuracy: 0.9976\n",
      "Epoch 19/50\n",
      "83/83 [==============================] - 4s 47ms/step - loss: 0.0615 - accuracy: 0.9928 - val_loss: 0.1053 - val_accuracy: 0.9964\n",
      "Epoch 20/50\n",
      "83/83 [==============================] - 4s 50ms/step - loss: 0.0580 - accuracy: 0.9954 - val_loss: 0.0979 - val_accuracy: 0.9927\n",
      "Epoch 21/50\n",
      "83/83 [==============================] - 4s 46ms/step - loss: 0.0422 - accuracy: 0.9966 - val_loss: 0.0872 - val_accuracy: 0.9927\n",
      "Epoch 22/50\n",
      "83/83 [==============================] - 4s 47ms/step - loss: 0.1111 - accuracy: 0.9890 - val_loss: 0.2559 - val_accuracy: 0.9721\n",
      "Epoch 23/50\n",
      "83/83 [==============================] - 4s 47ms/step - loss: 0.1114 - accuracy: 0.9882 - val_loss: 0.0990 - val_accuracy: 0.9939\n",
      "Epoch 24/50\n",
      "83/83 [==============================] - 4s 47ms/step - loss: 0.0641 - accuracy: 0.9916 - val_loss: 0.1696 - val_accuracy: 0.9891\n",
      "Epoch 25/50\n",
      "83/83 [==============================] - 4s 46ms/step - loss: 0.1095 - accuracy: 0.9894 - val_loss: 0.1021 - val_accuracy: 0.9964\n",
      "Epoch 26/50\n",
      "83/83 [==============================] - 4s 50ms/step - loss: 0.0493 - accuracy: 0.9966 - val_loss: 0.0763 - val_accuracy: 0.9964\n",
      "Epoch 27/50\n",
      "83/83 [==============================] - 4s 48ms/step - loss: 0.0357 - accuracy: 0.9962 - val_loss: 0.0705 - val_accuracy: 0.9964\n",
      "Epoch 28/50\n",
      "83/83 [==============================] - 5s 56ms/step - loss: 0.0658 - accuracy: 0.9916 - val_loss: 0.1118 - val_accuracy: 0.9939\n",
      "Epoch 29/50\n",
      "83/83 [==============================] - 5s 61ms/step - loss: 0.0456 - accuracy: 0.9962 - val_loss: 0.0870 - val_accuracy: 0.9915\n",
      "Epoch 30/50\n",
      "83/83 [==============================] - 5s 65ms/step - loss: 0.0792 - accuracy: 0.9909 - val_loss: 0.0871 - val_accuracy: 0.9964\n",
      "Epoch 31/50\n",
      "83/83 [==============================] - 5s 65ms/step - loss: 0.0935 - accuracy: 0.9913 - val_loss: 0.1056 - val_accuracy: 0.9976\n",
      "Epoch 32/50\n",
      "83/83 [==============================] - 5s 62ms/step - loss: 0.0474 - accuracy: 0.9958 - val_loss: 0.0638 - val_accuracy: 0.9951\n",
      "Epoch 33/50\n",
      "83/83 [==============================] - 5s 65ms/step - loss: 0.0449 - accuracy: 0.9939 - val_loss: 0.0626 - val_accuracy: 0.9951\n",
      "Epoch 34/50\n",
      "83/83 [==============================] - 5s 62ms/step - loss: 0.0409 - accuracy: 0.9962 - val_loss: 0.0629 - val_accuracy: 0.9976\n",
      "Epoch 35/50\n",
      "83/83 [==============================] - 5s 64ms/step - loss: 0.0272 - accuracy: 0.9973 - val_loss: 0.0838 - val_accuracy: 0.9915\n",
      "Epoch 36/50\n",
      "83/83 [==============================] - 5s 62ms/step - loss: 0.0533 - accuracy: 0.9939 - val_loss: 0.0799 - val_accuracy: 0.9951\n",
      "Epoch 37/50\n",
      "83/83 [==============================] - 5s 65ms/step - loss: 0.0511 - accuracy: 0.9962 - val_loss: 0.0617 - val_accuracy: 0.9964\n",
      "Epoch 38/50\n",
      "83/83 [==============================] - 6s 66ms/step - loss: 0.0502 - accuracy: 0.9951 - val_loss: 0.0626 - val_accuracy: 0.9988\n",
      "Epoch 39/50\n",
      "83/83 [==============================] - 6s 67ms/step - loss: 0.0450 - accuracy: 0.9962 - val_loss: 0.0793 - val_accuracy: 0.9976\n",
      "Epoch 40/50\n",
      "83/83 [==============================] - 6s 67ms/step - loss: 0.0598 - accuracy: 0.9954 - val_loss: 0.0676 - val_accuracy: 0.9964\n",
      "Epoch 41/50\n",
      "83/83 [==============================] - 5s 66ms/step - loss: 0.0451 - accuracy: 0.9951 - val_loss: 0.1016 - val_accuracy: 0.9964\n",
      "Epoch 42/50\n",
      "83/83 [==============================] - 5s 65ms/step - loss: 0.0579 - accuracy: 0.9951 - val_loss: 0.0658 - val_accuracy: 0.9988\n",
      "Epoch 43/50\n",
      "83/83 [==============================] - 5s 65ms/step - loss: 0.0407 - accuracy: 0.9951 - val_loss: 0.0750 - val_accuracy: 0.9964\n",
      "Epoch 44/50\n",
      "83/83 [==============================] - 6s 66ms/step - loss: 0.2372 - accuracy: 0.9833 - val_loss: 0.1887 - val_accuracy: 0.9939\n",
      "Epoch 45/50\n",
      "83/83 [==============================] - 5s 66ms/step - loss: 0.0883 - accuracy: 0.9943 - val_loss: 0.0755 - val_accuracy: 0.9976\n",
      "Epoch 46/50\n",
      "83/83 [==============================] - 5s 66ms/step - loss: 0.0358 - accuracy: 0.9985 - val_loss: 0.0601 - val_accuracy: 0.9964\n",
      "Epoch 47/50\n",
      "83/83 [==============================] - 6s 66ms/step - loss: 0.0454 - accuracy: 0.9966 - val_loss: 0.0568 - val_accuracy: 0.9976\n",
      "Epoch 48/50\n",
      "83/83 [==============================] - 5s 66ms/step - loss: 0.0215 - accuracy: 0.9992 - val_loss: 0.0503 - val_accuracy: 0.9951\n",
      "Epoch 49/50\n",
      "83/83 [==============================] - 6s 68ms/step - loss: 0.0422 - accuracy: 0.9943 - val_loss: 0.1248 - val_accuracy: 0.9915\n",
      "Epoch 50/50\n",
      "83/83 [==============================] - 6s 66ms/step - loss: 0.0570 - accuracy: 0.9962 - val_loss: 0.0598 - val_accuracy: 0.9988\n"
     ]
    }
   ],
   "source": [
    "aug = ImageDataGenerator(zoom_range=0.1,\n",
    "#                          rotation_range=5,\n",
    "                         width_shift_range=0.05,\n",
    "                         height_shift_range=0.05)\n",
    "hist = model.fit(aug.flow(X_train, y_train, batch_size=32), batch_size=32, epochs=50, validation_data=(X_test, y_test))\n",
    "#hist = model.fit(X_train, y_train, batch_size=32, epochs=100, validation_data=(X_test, y_test), callbacks=callbacks)"
   ]
  },
  {
   "cell_type": "code",
   "execution_count": 13,
   "id": "845ee1d7-3011-48d6-8088-4a885a827ec8",
   "metadata": {},
   "outputs": [
    {
     "name": "stderr",
     "output_type": "stream",
     "text": [
      "WARNING:absl:Found untraced functions such as _jit_compiled_convolution_op, _jit_compiled_convolution_op, _jit_compiled_convolution_op, _update_step_xla while saving (showing 4 of 4). These functions will not be directly callable after loading.\n"
     ]
    },
    {
     "name": "stdout",
     "output_type": "stream",
     "text": [
      "INFO:tensorflow:Assets written to: cnn_model\\assets\n"
     ]
    },
    {
     "name": "stderr",
     "output_type": "stream",
     "text": [
      "INFO:tensorflow:Assets written to: cnn_model\\assets\n"
     ]
    }
   ],
   "source": [
    "model.save('cnn_model.h5')  # This saves everything in HDF5 format\n",
    "model.save('cnn_model')  # This saves everything in SavedModel format\n"
   ]
  },
  {
   "cell_type": "code",
   "execution_count": 14,
   "id": "5863b2d8",
   "metadata": {},
   "outputs": [
    {
     "name": "stdout",
     "output_type": "stream",
     "text": [
      "26/26 [==============================] - 0s 12ms/step\n",
      "              precision    recall  f1-score   support\n",
      "\n",
      "           0       1.00      1.00      1.00       496\n",
      "           1       1.00      1.00      1.00       328\n",
      "\n",
      "    accuracy                           1.00       824\n",
      "   macro avg       1.00      1.00      1.00       824\n",
      "weighted avg       1.00      1.00      1.00       824\n",
      "\n"
     ]
    }
   ],
   "source": [
    "ypred = model.predict(X_test)\n",
    "ypred = np.argmax(ypred, axis=1)\n",
    "Y_test_hat = np.argmax(y_test, axis=1)\n",
    "print(classification_report(Y_test_hat, ypred))\n"
   ]
  },
  {
   "cell_type": "code",
   "execution_count": 15,
   "id": "3a1ec999",
   "metadata": {},
   "outputs": [],
   "source": [
    "def test_pipeline(image_path):\n",
    "    img = cv2.imread(image_path)\n",
    "    img = cv2.resize(img, (800, 800))\n",
    "    img_gray = cv2.cvtColor(img, cv2.COLOR_BGR2GRAY)\n",
    "    # blurred = cv2.GaussianBlur(img_gray, (3, 3), 0)\n",
    "    edged = cv2.Canny(img_gray, 30, 150)\n",
    "    contours = cv2.findContours(edged.copy(), cv2.RETR_EXTERNAL, cv2.CHAIN_APPROX_SIMPLE)\n",
    "    contours = imutils.grab_contours(contours)\n",
    "    contours = sort_contours(contours, method=\"left-to-right\")[0]\n",
    "    labels = ['fraction', 'non-fraction']\n",
    "    for c in contours:\n",
    "        (x, y, w, h) = cv2.boundingRect(c)\n",
    "        if 20<=w and 30<=h:\n",
    "            roi = img_gray[y:y+h, x:x+w]\n",
    "            thresh = cv2.threshold(roi, 0, 255, cv2.THRESH_BINARY_INV | cv2.THRESH_OTSU)[1]\n",
    "            (th, tw) = thresh.shape\n",
    "            if tw > th:\n",
    "                thresh = imutils.resize(thresh, width=56)\n",
    "            if th > tw:\n",
    "                thresh = imutils.resize(thresh, height=56)\n",
    "            (th, tw) = thresh.shape\n",
    "            dx = int(max(0, 56 - tw)/2.0)\n",
    "            dy = int(max(0, 56 - th) / 2.0)\n",
    "            padded = cv2.copyMakeBorder(thresh, top=dy, bottom=dy, left=dx, right=dx, borderType=cv2.BORDER_CONSTANT,\n",
    "                                       value=(0, 0, 0))\n",
    "            padded = cv2.resize(padded, (56, 56))\n",
    "            padded = np.array(padded)\n",
    "            padded = padded/255.\n",
    "            padded = np.expand_dims(padded, axis=0)\n",
    "            padded = np.expand_dims(padded, axis=-1)\n",
    "            pred = model.predict(padded)\n",
    "            pred = np.argmax(pred, axis=1)\n",
    "            label = labels[pred[0]]\n",
    "            cv2.rectangle(img, (x, y), (x+w, y+h), (0, 0, 255), 2)\n",
    "            cv2.putText(img, label, (x-5, y), cv2.FONT_HERSHEY_SIMPLEX, 0.5, (0, 0, 255))\n",
    "\n",
    "    figure = plt.figure(figsize=(10, 10))\n",
    "    img = cv2.cvtColor(img, cv2.COLOR_BGR2RGB)\n",
    "    plt.imshow(img)\n",
    "    plt.axis('off')\n",
    "    plt.show()"
   ]
  },
  {
   "cell_type": "code",
   "execution_count": 16,
   "id": "8fe84896",
   "metadata": {},
   "outputs": [
    {
     "data": {
      "image/png": "[encoded data removed]",
      "text/plain": [
       "<Figure size 640x480 with 1 Axes>"
      ]
     },
     "metadata": {},
     "output_type": "display_data"
    }
   ],
   "source": [
    "import cv2\n",
    "import numpy as np\n",
    "import matplotlib.pyplot as plt\n",
    "\n",
    "# Load YOLOv4\n",
    "net = cv2.dnn.readNet(\"model/yolov4.weights\", \"model/yolov4.cfg\")  # Update these to the correct paths\n",
    "layer_names = net.getLayerNames()\n",
    "output_layers = [layer_names[i - 1] for i in net.getUnconnectedOutLayers()]\n",
    "\n",
    "# Load an image\n",
    "img = cv2.imread(\"2.jpg\")  # Update to your image path\n",
    "height, width, channels = img.shape\n",
    "\n",
    "# Detect objects\n",
    "blob = cv2.dnn.blobFromImage(img, 0.00392, (416, 416), (0, 0, 0), True, crop=False)\n",
    "net.setInput(blob)\n",
    "outs = net.forward(output_layers)\n",
    "\n",
    "class_ids = []\n",
    "confidences = []\n",
    "boxes = []\n",
    "for out in outs:\n",
    "    for detection in out:\n",
    "        scores = detection[5:]\n",
    "        class_id = np.argmax(scores)\n",
    "        confidence = scores[class_id]\n",
    "        if confidence > 0.5:\n",
    "            center_x = int(detection[0] * width)\n",
    "            center_y = int(detection[1] * height)\n",
    "            w = int(detection[2] * width)\n",
    "            h = int(detection[3] * height)\n",
    "\n",
    "            x = int(center_x - w / 2)\n",
    "            y = int(center_y - h / 2)\n",
    "\n",
    "            boxes.append([x, y, w, h])\n",
    "            confidences.append(float(confidence))\n",
    "            class_ids.append(class_id)\n",
    "\n",
    "indexes = cv2.dnn.NMSBoxes(boxes, confidences, 0.5, 0.4)\n",
    "\n",
    "font = cv2.FONT_HERSHEY_PLAIN\n",
    "for i in range(len(boxes)):\n",
    "    if i in indexes:\n",
    "        x, y, w, h = boxes[i]\n",
    "        label = str(class_ids[i])\n",
    "        color = (0, 255, 0)\n",
    "        cv2.rectangle(img, (x, y), (x + w, y + h), color, 2)\n",
    "        cv2.putText(img, label, (x, y + 30), font, 2, color, 3)\n",
    "\n",
    "# Show the image using matplotlib\n",
    "plt.imshow(cv2.cvtColor(img, cv2.COLOR_BGR2RGB))\n",
    "plt.show()\n"
   ]
  },
  {
   "cell_type": "code",
   "execution_count": null,
   "id": "79104981",
   "metadata": {},
   "outputs": [],
   "source": []
  }
 ],
 "metadata": {
  "kernelspec": {
   "display_name": "Python 3 (ipykernel)",
   "language": "python",
   "name": "python3"
  },
  "language_info": {
   "codemirror_mode": {
    "name": "ipython",
    "version": 3
   },
   "file_extension": ".py",
   "mimetype": "text/x-python",
   "name": "python",
   "nbconvert_exporter": "python",
   "pygments_lexer": "ipython3",
   "version": "3.11.6"
  }
 },
 "nbformat": 4,
 "nbformat_minor": 5
}
